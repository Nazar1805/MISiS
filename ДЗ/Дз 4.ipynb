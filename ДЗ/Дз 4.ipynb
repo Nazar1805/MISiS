{
 "cells": [
  {
   "cell_type": "code",
   "execution_count": 18,
   "id": "35bcccb6",
   "metadata": {},
   "outputs": [
    {
     "name": "stdout",
     "output_type": "stream",
     "text": [
      "Средний балл равен 3.1818181818181817, список отстающих: ['Петров И.', 'Дмитриев Н.', 'Котов Д.', 'Бирюкова Н.', 'Данилов П.', 'Лемонов Ю.']\n"
     ]
    }
   ],
   "source": [
    "#Средний балл и список отстающих учеников (меньше среднего балла)\n",
    "spisok_mark, names = [], []\n",
    "from statistics import mean\n",
    "\n",
    "with open('spisok.txt', 'r', encoding='utf-8') as f:\n",
    "    for line in f:\n",
    "        spisok_mark.append(int(line[-2]))\n",
    "with open('spisok.txt', 'r', encoding='utf-8') as f:    \n",
    "    for line in f:\n",
    "        if int(line[-2]) < mean(spisok_mark):\n",
    "            names.append(line[:-3])\n",
    "            \n",
    "print(f'Средний балл равен {mean(spisok_mark)}, список отстающих: {names}')"
   ]
  },
  {
   "cell_type": "code",
   "execution_count": 2,
   "id": "41680ba6",
   "metadata": {},
   "outputs": [
    {
     "name": "stdout",
     "output_type": "stream",
     "text": [
      "Средний балл равен 3.1818181818181817, список отстающих: ['Петров И.', 'Дмитриев Н.', 'Котов Д.', 'Бирюкова Н.', 'Данилов П.', 'Лемонов Ю.']\n"
     ]
    }
   ],
   "source": [
    "# Решила сразу выгрузить содержимое файла в словарик и работать только с ним, чтобы не открывать файл дважды, как в решении 1...\n",
    "dict_f = {}\n",
    "marks, names = [], []\n",
    "with open('spisok.txt', 'r', encoding='utf-8') as f:\n",
    "    for line in f:\n",
    "        dict_f[line[:-3]] = int(line[-2])\n",
    "\n",
    "from statistics import mean        \n",
    "for value in dict_f.values():\n",
    "    marks.append(value)\n",
    "for key, value in dict_f.items():\n",
    "    if value < mean(marks):\n",
    "        names.append(key)\n",
    "print(f'Средний балл равен {mean(marks)}, список отстающих: {names}')"
   ]
  },
  {
   "cell_type": "code",
   "execution_count": 30,
   "id": "b3d91360",
   "metadata": {},
   "outputs": [
    {
     "name": "stdout",
     "output_type": "stream",
     "text": [
      "Лекций: 6\n",
      "Практических: 11\n",
      "Лабораторных: 2\n"
     ]
    }
   ],
   "source": [
    "#Посчитать количество определенных слов в файле\n",
    "lec, pract, lab = 0, 0, 0 \n",
    "with open('Расписание.txt', 'r', encoding='utf-8') as f:\n",
    "    for line in f:\n",
    "        if 'лек' in line:\n",
    "            lec += 1\n",
    "        elif 'лаб' in line:\n",
    "            lab += 1\n",
    "        elif 'прак' in line:\n",
    "            pract += 1\n",
    "print('Лекций:', lec)\n",
    "print('Практических:', pract)\n",
    "print('Лабораторных:', lab)"
   ]
  },
  {
   "cell_type": "code",
   "execution_count": 42,
   "id": "74c2c6a4",
   "metadata": {},
   "outputs": [
    {
     "name": "stdout",
     "output_type": "stream",
     "text": [
      "['.ipynb_checkpoints', 'L5.ipynb', 'lecture_4.ipynb', 'spisok.txt', 'ДЗ 1.ipynb', 'Дз 2.ipynb', 'Дз 3.ipynb', 'Дз 4.ipynb', 'Расписание.txt']\n"
     ]
    }
   ],
   "source": [
    "#Выведите список файлов в указанной директории. например где у вас лежат ваши тетради\n",
    "\n",
    "from os import listdir\n",
    "print(listdir('C:\\\\Users\\\\Nazar\\\\Python_MISiS'))"
   ]
  },
  {
   "cell_type": "code",
   "execution_count": 32,
   "id": "1e514956",
   "metadata": {},
   "outputs": [
    {
     "name": "stdout",
     "output_type": "stream",
     "text": [
      "Наиболее часто встречающееся слово - \"и\", самое длинное - \"храброславленный\"\n"
     ]
    }
   ],
   "source": [
    "#Напишите программу, которая принимает текст и выводит два слова: наиболее часто встречающееся и самое длинное\n",
    "\n",
    "with open('Текст.txt', 'r', encoding='utf-8') as f:\n",
    "    lines = f.read().split('\\n')\n",
    "    stroka = ''.join(lines).lower()\n",
    "for p in '!,.—-':\n",
    "    if p in stroka:\n",
    "        stroka = stroka.replace(p, '')\n",
    "l = stroka.split(' ')\n",
    "from statistics import mode\n",
    "longest_word = max(l, key=len)\n",
    "print(f'Наиболее часто встречающееся слово - \"{mode(l)}\", самое длинное - \"{longest_word}\"')"
   ]
  }
 ],
 "metadata": {
  "kernelspec": {
   "display_name": "Python 3",
   "language": "python",
   "name": "python3"
  },
  "language_info": {
   "codemirror_mode": {
    "name": "ipython",
    "version": 3
   },
   "file_extension": ".py",
   "mimetype": "text/x-python",
   "name": "python",
   "nbconvert_exporter": "python",
   "pygments_lexer": "ipython3",
   "version": "3.8.8"
  }
 },
 "nbformat": 4,
 "nbformat_minor": 5
}
