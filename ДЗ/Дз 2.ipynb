{
 "cells": [
  {
   "cell_type": "code",
   "execution_count": 8,
   "id": "12c44128",
   "metadata": {},
   "outputs": [
    {
     "name": "stdout",
     "output_type": "stream",
     "text": [
      "Введите номер месяца: 3\n",
      "Это Март\n"
     ]
    }
   ],
   "source": [
    "#Определяем название месяца по его номеру\n",
    "num = int(input('Введите номер месяца: '))\n",
    "months = ['Январь', 'Февраль', 'Март', 'Апрель', 'Май', 'Июнь', 'Июль', 'Август', 'Сентябрь', 'Октябрь', 'Ноябрь', 'Декабрь']\n",
    "print('Это', months[num-1])"
   ]
  },
  {
   "cell_type": "code",
   "execution_count": 1,
   "id": "8376870d",
   "metadata": {},
   "outputs": [
    {
     "name": "stdout",
     "output_type": "stream",
     "text": [
      "Введите первое число: 1012\n",
      "Введите второе число: 600\n",
      "4\n"
     ]
    }
   ],
   "source": [
    "#Наибольший общий делитель двух чисел\n",
    "a = int(input('Введите первое число: '))\n",
    "b = int(input('Введите второе число: '))\n",
    "listic_1 = []\n",
    "listic_2 = []\n",
    "for i in range(1, a+1):\n",
    "    if a % i == 0:\n",
    "        listic_1.append(i)\n",
    "for k in listic_1:\n",
    "    if b % k == 0:\n",
    "        listic_2.append(k)\n",
    "print(max(listic_2))        "
   ]
  },
  {
   "cell_type": "code",
   "execution_count": 7,
   "id": "85a3815a",
   "metadata": {},
   "outputs": [
    {
     "name": "stdout",
     "output_type": "stream",
     "text": [
      "Введите название файла с расширением: Моя.диссертация.svg\n",
      "Допустимое разрешение файла\n"
     ]
    }
   ],
   "source": [
    "#Проверка расширения файла\n",
    "file = input('Введите название файла с расширением: ')\n",
    "extensions = ['png', 'jpg', 'jpeg', 'gif', 'svg']\n",
    "file = file[::-1]\n",
    "ext = file[:file.find('.')]\n",
    "if ext[::-1] in extensions:\n",
    "    print('Допустимое разрешение файла')\n",
    "else:\n",
    "    print('Недопустимое расширение файла')"
   ]
  },
  {
   "cell_type": "code",
   "execution_count": 27,
   "id": "2ecc0197",
   "metadata": {},
   "outputs": [
    {
     "name": "stdout",
     "output_type": "stream",
     "text": [
      "Введите год: 2033\n",
      "Год невисокосный\n"
     ]
    }
   ],
   "source": [
    "#Ищем високосный год\n",
    "year = int(input('Введите год: '))\n",
    "if year % 400 == 0:\n",
    "    print('Год високосный')\n",
    "elif year % 100 == 0:\n",
    "    print('Год невисокосный')\n",
    "elif year % 4 == 0:\n",
    "    print('Год високосный')\n",
    "else:\n",
    "    print('Год невисокосный')    "
   ]
  }
 ],
 "metadata": {
  "kernelspec": {
   "display_name": "Python 3",
   "language": "python",
   "name": "python3"
  },
  "language_info": {
   "codemirror_mode": {
    "name": "ipython",
    "version": 3
   },
   "file_extension": ".py",
   "mimetype": "text/x-python",
   "name": "python",
   "nbconvert_exporter": "python",
   "pygments_lexer": "ipython3",
   "version": "3.8.8"
  }
 },
 "nbformat": 4,
 "nbformat_minor": 5
}
