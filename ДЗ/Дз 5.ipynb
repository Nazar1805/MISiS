{
 "cells": [
  {
   "cell_type": "markdown",
   "id": "37e9b115",
   "metadata": {},
   "source": [
    "Напишите программу с классом Student, в котором есть три атрибута: name, groupNumber и age. \n",
    "По умолчанию name = Ivan, age = 18, groupNumber = 10A. Необходимо создать пять методов: getName, getAge,\n",
    "getGroupNumber, setNameAge, setGroupNumber. Метод getName нужен для получения данных об имени конкретного студента, \n",
    "метод getAge нужен для получения данных о возрасте конкретного студента, vетод setGroupNumberнужен для получения данных \n",
    "о номере группы конкретного студента. Метод SetNameAge позволяет изменить данные атрибутов установленных по умолчанию, \n",
    "метод setGroupNumber позволяет изменить номер группы установленный по умолчанию. В программе необходимо создать\n",
    "пять экземпляров класса Student, установить им разные имена, возраст и номер группы."
   ]
  },
  {
   "cell_type": "code",
   "execution_count": 19,
   "id": "533cd984",
   "metadata": {},
   "outputs": [
    {
     "name": "stdout",
     "output_type": "stream",
     "text": [
      "10A Ivan 18\n",
      "11B Anna 23\n",
      "11f Anechka 25\n"
     ]
    }
   ],
   "source": [
    "class Student:\n",
    "    def __init__(self, name='Ivan', age=18, groupNumber='10A'):\n",
    "        self.name=name\n",
    "        self.age=age\n",
    "        self.groupNumber=groupNumber\n",
    "         \n",
    "    def getName(self):\n",
    "        return self.name\n",
    "    \n",
    "    def getAge(self): \n",
    "        return self.age\n",
    "    \n",
    "    def getGroupNumber(self):\n",
    "        return self.groupNumber\n",
    "    \n",
    "    def setGroupNumber(self, GroupNumber):\n",
    "        self.groupNumber=GroupNumber \n",
    "        \n",
    "    def setNameAge(self, name, age):\n",
    "        self.name=name\n",
    "        self.age=age\n",
    "\n",
    "student1 = Student('Anna', 23, '11B')\n",
    "student2 = Student('Max', 20, '10B')\n",
    "student3 = Student('Lena', 15, '11C')     \n",
    "student4 = Student('Paul', 21, '9A')\n",
    "student5 = Student()\n",
    "\n",
    "print(student5.groupNumber, student5.name, student5.age)\n",
    "print(student1.groupNumber, student1.name, student1.age)\n",
    "student1.setGroupNumber('11f')\n",
    "student1.setNameAge('Anechka', 25)\n",
    "print(student1.groupNumber, student1.name, student1.age)"
   ]
  },
  {
   "cell_type": "markdown",
   "id": "f3f4768c",
   "metadata": {},
   "source": [
    "Задача 2. Напишите программу с классом Car. Создайте конструктор класса Car. Создайте атрибуты класса Car — color (цвет),\n",
    "type (тип), year (год). Напишите пять методов. Первый — запуск автомобиля, при его вызове выводится сообщение\n",
    "«Автомобиль заведен». Второй — отключение автомобиля — выводит сообщение «Автомобиль заглушен». Третий — присвоение\n",
    "автомобилю года выпуска. Четвертый метод — присвоение автомобилю типа. Пятый — присвоение автомобилю цвета."
   ]
  },
  {
   "cell_type": "code",
   "execution_count": 15,
   "id": "a0d5db32",
   "metadata": {},
   "outputs": [
    {
     "name": "stdout",
     "output_type": "stream",
     "text": [
      "blue sedan 2010\n",
      "white aaa 2000\n"
     ]
    }
   ],
   "source": [
    "class Car:\n",
    "    def __init__(self, color, type, year):\n",
    "        self.color=color\n",
    "        self.type=type\n",
    "        self.year=year\n",
    "        \n",
    "    def turn_on(self):\n",
    "        print('Автомобиль заведен')\n",
    "        \n",
    "    def turn_off(self):\n",
    "        print('Автомобиль заглушен')\n",
    "        \n",
    "    def setColor(self, color_new):\n",
    "        self.color=color_new\n",
    "        \n",
    "    def setYear(self, year_new):\n",
    "        self.year=year_new\n",
    "        \n",
    "    def setType(self, type_new):\n",
    "        self.type=type_new\n",
    "\n",
    "car_1=Car('blue', 'sedan', 2010)\n",
    "print(car_1.color, car_1.type, car_1.year)\n",
    "car_1.setColor('white')\n",
    "car_1.setYear(2000)\n",
    "car_1.setType('aaa')\n",
    "print(car_1.color, car_1.type, car_1.year)\n",
    "\n",
    "    "
   ]
  },
  {
   "cell_type": "code",
   "execution_count": 35,
   "id": "27f99dbc",
   "metadata": {},
   "outputs": [
    {
     "name": "stdout",
     "output_type": "stream",
     "text": [
      "210\n",
      "210\n"
     ]
    }
   ],
   "source": [
    "class NutritionInfo:\n",
    "    def __init__(self, proteins, carbs, fats):\n",
    "        self.proteins = proteins\n",
    "        self.carbs = carbs\n",
    "        self.fats = fats\n",
    "    \n",
    "    def __add__(self, other):\n",
    "        return NutritionInfo(self.proteins + other.proteins, self.carbs + other.carbs, self.fats + other.fats)\n",
    "    \n",
    "    def __str__(self):\n",
    "        return f\"Nutrition p {self.proteins}, c {self.carbs}, f {self.fats}\"\n",
    "        \n",
    "    def energy(self):\n",
    "        return int(self.fats * 9 + (self.carbs + self.proteins) * 4.2)\n",
    "    \n",
    "    def __mul__(self, num):\n",
    "        return NutritionInfo(self.proteins * num, self.carbs * num, self.fats * num)\n",
    "    \n",
    "egg = NutritionInfo(1, 2, 3)\n",
    "pastila = NutritionInfo(1, 2, 3)\n",
    "tvorog_9 = NutritionInfo(18, 3, 9)\n",
    "apple = NutritionInfo(0, 25, 0)\n",
    "\n",
    "breakfast = apple + apple\n",
    "print(breakfast.energy())\n",
    "breakfast_new = apple * 2\n",
    "print(breakfast_new.energy())"
   ]
  }
 ],
 "metadata": {
  "kernelspec": {
   "display_name": "Python 3",
   "language": "python",
   "name": "python3"
  },
  "language_info": {
   "codemirror_mode": {
    "name": "ipython",
    "version": 3
   },
   "file_extension": ".py",
   "mimetype": "text/x-python",
   "name": "python",
   "nbconvert_exporter": "python",
   "pygments_lexer": "ipython3",
   "version": "3.8.8"
  }
 },
 "nbformat": 4,
 "nbformat_minor": 5
}
