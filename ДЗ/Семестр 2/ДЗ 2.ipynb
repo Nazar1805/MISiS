{
 "cells": [
  {
   "cell_type": "markdown",
   "id": "90acaf54",
   "metadata": {},
   "source": [
    "1. Классификация"
   ]
  },
  {
   "cell_type": "code",
   "execution_count": 15,
   "id": "3e761310",
   "metadata": {},
   "outputs": [
    {
     "name": "stdout",
     "output_type": "stream",
     "text": [
      "Accuracy: 0.8810483870967742\n"
     ]
    }
   ],
   "source": [
    "import pandas as pd\n",
    "import glob\n",
    "import os\n",
    "import tqdm\n",
    "import gc\n",
    "import matplotlib.pyplot as plt\n",
    "from ipywidgets import interact, interactive, fixed, interact_manual\n",
    "import ipywidgets as widgets\n",
    "import seaborn as sns\n",
    "import numpy as np\n",
    "from scipy.spatial import Voronoi, voronoi_plot_2d\n",
    "import math\n",
    "from sklearn import datasets, linear_model, model_selection\n",
    "from sklearn.metrics import mean_squared_error, r2_score, confusion_matrix\n",
    "from tqdm import tqdm\n",
    "%matplotlib inline\n",
    "\n",
    "def get_data():\n",
    "    f='C:\\\\Users\\\\anna.nazarova\\\\Downloads\\\\Telegram Desktop\\\\athletes_sochi.txt'\n",
    "    dfs = pd.read_csv(f).dropna()\n",
    "    dfs[\"BMI\"] = dfs[\"weight\"] / (dfs[\"height\"]**2)\n",
    "    alldata = dfs[ ['age', 'weight', 'height', 'BMI', 'gender'] ]\n",
    "    alldata = alldata.sample(frac=1)\n",
    "    allinput = alldata[ ['age', 'weight', 'height', 'BMI'] ]\n",
    "    alloutput = alldata[\"gender\"].apply(lambda x: int(x == \"Male\"))\n",
    "    return alldata, allinput, alloutput\n",
    "\n",
    "def predict(alldata, allinput, alloutput):\n",
    "    chunk_80 = int(len(alldata) * 0.8)\n",
    "    X_train = allinput[ :chunk_80]\n",
    "    Y_train = alloutput[ :chunk_80]\n",
    "    X_test = allinput[chunk_80: ]\n",
    "    Y_test = alloutput[chunk_80: ]\n",
    "    model = linear_model.LogisticRegression()\n",
    "    model.fit(X_train, Y_train)\n",
    "    Y_test_predicted = model.predict(X_test)\n",
    "    print_accuracy(Y_test, Y_test_predicted)\n",
    "    \n",
    "def print_accuracy(Y_test, Y_test_predicted):\n",
    "    [tn, fp], [fn, tp] = confusion_matrix(Y_test, Y_test_predicted)\n",
    "    accuracy = (tn + tp) / (tp + fp + tn + fn)\n",
    "    print(f\"Accuracy: {accuracy}\")\n",
    "    return accuracy\n",
    "\n",
    "alldata, allinput, alloutput = get_data()\n",
    "predict(alldata, allinput, alloutput)"
   ]
  },
  {
   "cell_type": "markdown",
   "id": "4365887d",
   "metadata": {},
   "source": [
    "2. Кластеризация (разделить страны на кластеры по уровню развития; метод k-means)"
   ]
  },
  {
   "cell_type": "code",
   "execution_count": 11,
   "id": "9e1f4346",
   "metadata": {},
   "outputs": [
    {
     "name": "stdout",
     "output_type": "stream",
     "text": [
      "         child_mort    exports          gdpp    health    imports  \\\n",
      "cluster                                                             \n",
      "0         93.284783  29.287174   1695.913043  6.338478  43.297826   \n",
      "1         22.425581  40.382430   6719.790698  6.215581  46.932162   \n",
      "2          4.897143  58.431429  43117.142857  8.917429  51.508571   \n",
      "\n",
      "               income  inflation  life_expec  total_fer  \n",
      "cluster                                                  \n",
      "0         3516.804348  12.097065   59.393478   5.090217  \n",
      "1        12770.813953   7.609023   72.582558   2.293256  \n",
      "2        45802.857143   2.535000   80.245714   1.741143   \n",
      "\n",
      "['Afghanistan' 'Angola' 'Benin' 'Burkina Faso' 'Burundi' 'Cameroon'\n",
      " 'Central African Republic' 'Chad' 'Comoros' 'Congo, Dem. Rep.'\n",
      " 'Congo, Rep.' \"Cote d'Ivoire\" 'Equatorial Guinea' 'Eritrea' 'Gabon'\n",
      " 'Gambia' 'Ghana' 'Guinea' 'Guinea-Bissau' 'Haiti' 'Iraq' 'Kenya'\n",
      " 'Kiribati' 'Lao' 'Lesotho' 'Liberia' 'Madagascar' 'Malawi' 'Mali'\n",
      " 'Mauritania' 'Mozambique' 'Namibia' 'Niger' 'Nigeria' 'Pakistan' 'Rwanda'\n",
      " 'Senegal' 'Sierra Leone' 'Solomon Islands' 'Sudan' 'Tanzania'\n",
      " 'Timor-Leste' 'Togo' 'Uganda' 'Yemen' 'Zambia'] \n",
      "\n",
      "['Albania' 'Algeria' 'Antigua and Barbuda' 'Argentina' 'Armenia'\n",
      " 'Azerbaijan' 'Bahamas' 'Bahrain' 'Bangladesh' 'Barbados' 'Belarus'\n",
      " 'Belize' 'Bhutan' 'Bolivia' 'Bosnia and Herzegovina' 'Botswana' 'Brazil'\n",
      " 'Bulgaria' 'Cambodia' 'Cape Verde' 'Chile' 'China' 'Colombia'\n",
      " 'Costa Rica' 'Croatia' 'Dominican Republic' 'Ecuador' 'Egypt'\n",
      " 'El Salvador' 'Estonia' 'Fiji' 'Georgia' 'Grenada' 'Guatemala' 'Guyana'\n",
      " 'Hungary' 'India' 'Indonesia' 'Iran' 'Jamaica' 'Jordan' 'Kazakhstan'\n",
      " 'Kyrgyz Republic' 'Latvia' 'Lebanon' 'Libya' 'Lithuania' 'Macedonia, FYR'\n",
      " 'Malaysia' 'Maldives' 'Mauritius' 'Micronesia, Fed. Sts.' 'Moldova'\n",
      " 'Mongolia' 'Montenegro' 'Morocco' 'Myanmar' 'Nepal' 'Oman' 'Panama'\n",
      " 'Paraguay' 'Peru' 'Philippines' 'Poland' 'Romania' 'Russia' 'Samoa'\n",
      " 'Saudi Arabia' 'Serbia' 'Seychelles' 'South Africa' 'Sri Lanka'\n",
      " 'St. Vincent and the Grenadines' 'Suriname' 'Tajikistan' 'Thailand'\n",
      " 'Tonga' 'Tunisia' 'Turkey' 'Turkmenistan' 'Ukraine' 'Uruguay'\n",
      " 'Uzbekistan' 'Vanuatu' 'Venezuela' 'Vietnam'] \n",
      "\n",
      "['Australia' 'Austria' 'Belgium' 'Brunei' 'Canada' 'Cyprus'\n",
      " 'Czech Republic' 'Denmark' 'Finland' 'France' 'Germany' 'Greece'\n",
      " 'Iceland' 'Ireland' 'Israel' 'Italy' 'Japan' 'Kuwait' 'Luxembourg'\n",
      " 'Malta' 'Netherlands' 'New Zealand' 'Norway' 'Portugal' 'Qatar'\n",
      " 'Singapore' 'Slovak Republic' 'Slovenia' 'South Korea' 'Spain' 'Sweden'\n",
      " 'Switzerland' 'United Arab Emirates' 'United Kingdom' 'United States'] \n",
      "\n"
     ]
    }
   ],
   "source": [
    "# Импортируем библиотеки\n",
    "from sklearn import datasets\n",
    "from sklearn.cluster import KMeans\n",
    "from sklearn.preprocessing import MinMaxScaler\n",
    "import pandas as pd\n",
    "\n",
    "\n",
    "# Загружаем набор данных и масштабируем\n",
    "def get_data():\n",
    "    global country_df\n",
    "    country_df = pd.read_csv(\"C:\\\\Users\\\\anna.nazarova\\\\Desktop\\\\Мага\\\\Матан\\\\ДЗ_2_Кластеризация\\\\Country-data.csv\")\n",
    "    dataset = country_df.drop(['country'], axis =1) \n",
    "    columns = dataset.columns\n",
    "    scaler = MinMaxScaler()\n",
    "    rescaled_dataset_minmax = scaler.fit_transform(dataset) \n",
    "    df_minmax = pd.DataFrame(data=rescaled_dataset_minmax , columns = columns)\n",
    "    return df_minmax\n",
    "\n",
    "# Кластеризация данных методом k-means; планирую разделением стран на 3 кластера: развитые, развивающиеся, отсталые страны.\n",
    "def k_means(df_minmax):\n",
    "    model = KMeans (n_clusters = 3) \n",
    "    y_predicted_minmax = model.fit_predict(df_minmax) \n",
    "    country_df['cluster'] = y_predicted_minmax\n",
    "    clusters_table = pd.pivot_table(country_df, index=['cluster']) #средние значения для каждого признака по кластерам\n",
    "    print(clusters_table, '\\n')\n",
    "    #выделяем страны, входящие в одну группу\n",
    "    cluster_0 = country_df.loc[country_df['cluster'] == 0]\n",
    "    print(cluster_0.country.unique(), '\\n')\n",
    "    cluster_1 = country_df.loc[country_df['cluster'] == 1]\n",
    "    print(cluster_1.country.unique(), '\\n')\n",
    "    cluster_2 = country_df.loc[country_df['cluster'] == 2]\n",
    "    print(cluster_2.country.unique(), '\\n')\n",
    "    \n",
    "df_minmax = get_data()\n",
    "k_means(df_minmax)"
   ]
  }
 ],
 "metadata": {
  "kernelspec": {
   "display_name": "Python 3 (ipykernel)",
   "language": "python",
   "name": "python3"
  },
  "language_info": {
   "codemirror_mode": {
    "name": "ipython",
    "version": 3
   },
   "file_extension": ".py",
   "mimetype": "text/x-python",
   "name": "python",
   "nbconvert_exporter": "python",
   "pygments_lexer": "ipython3",
   "version": "3.9.7"
  }
 },
 "nbformat": 4,
 "nbformat_minor": 5
}
