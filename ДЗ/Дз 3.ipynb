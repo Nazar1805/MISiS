{
 "cells": [
  {
   "cell_type": "code",
   "execution_count": 19,
   "id": "61faa476",
   "metadata": {},
   "outputs": [
    {
     "name": "stdout",
     "output_type": "stream",
     "text": [
      "25.0\n",
      "3.0\n"
     ]
    }
   ],
   "source": [
    "#Напишите функцию, извлекающую корень n-й степени из числа x. По умолчанию def будет извлекать квадратный корень\n",
    "\n",
    "def sq(x, n = 2):\n",
    "    return x**(1/n)\n",
    "\n",
    "print(sq(625)) #по умолчанию извлекается квадратный корень из числа x\n",
    "print(sq(27, 3)) #при указания степени корня n, извлекается корень n-й степени из числа x"
   ]
  },
  {
   "cell_type": "code",
   "execution_count": 2,
   "id": "2e3123d3",
   "metadata": {},
   "outputs": [
    {
     "name": "stdout",
     "output_type": "stream",
     "text": [
      "Недопустимое расширение файла\n"
     ]
    }
   ],
   "source": [
    "#Перепишите ваш код для проверки расширения из прошлого ДЗ в функцию, которая принимает список расширений и имя файла \n",
    "\n",
    "def ext(extensions, file):\n",
    "    file = file[::-1]\n",
    "    ext = file[:file.find('.')]\n",
    "    if ext[::-1] in extensions:\n",
    "        print('Допустимое разрешение файла')\n",
    "    else:\n",
    "        print('Недопустимое расширение файла')\n",
    "        \n",
    "ext(['doc', 'svg'], 'Ay.z.docx')"
   ]
  },
  {
   "cell_type": "code",
   "execution_count": 4,
   "id": "53ad2c3b",
   "metadata": {},
   "outputs": [
    {
     "data": {
      "text/plain": [
       "{1: 10, 2: 20, 3: 30, 4: 40, 5: 50, 6: 60}"
      ]
     },
     "execution_count": 4,
     "metadata": {},
     "output_type": "execute_result"
    }
   ],
   "source": [
    "#Слейте воедино три словаря\n",
    "dict_a = {1:10, 2:20}\n",
    "dict_b = {3:30, 4:40}\n",
    "dict_c = {5:50, 6:60}\n",
    "dict_a.update(dict_b)\n",
    "dict_a.update(dict_c)\n",
    "dict_a #общий словарь"
   ]
  },
  {
   "cell_type": "code",
   "execution_count": 8,
   "id": "6302d09f",
   "metadata": {},
   "outputs": [
    {
     "data": {
      "text/plain": [
       "5"
      ]
     },
     "execution_count": 8,
     "metadata": {},
     "output_type": "execute_result"
    }
   ],
   "source": [
    "#Напишите функцию, которая будет складывать цифры внутри числа\n",
    "\n",
    "def summa(n):\n",
    "    l = []\n",
    "    m = str(n)\n",
    "    for i in m:\n",
    "        i = int(i)\n",
    "        l.append(i)\n",
    "    c = 0\n",
    "    for i in l:\n",
    "        c += i\n",
    "    return c\n",
    "\n",
    "summa(122)"
   ]
  },
  {
   "cell_type": "code",
   "execution_count": 14,
   "id": "87763bd1",
   "metadata": {},
   "outputs": [
    {
     "name": "stdout",
     "output_type": "stream",
     "text": [
      "Последовательность содержит дубликаты\n"
     ]
    }
   ],
   "source": [
    "#Нужно проверить, все ли числа в последовательности уникальны.\n",
    "def check_num(numbers):\n",
    "    if type(numbers) != list:\n",
    "        print('Не то, введите список чисел')\n",
    "    else:\n",
    "        a = set(numbers)\n",
    "        b = list(a)\n",
    "        if numbers == b:\n",
    "            print('Все числа в последовательности уникальны')\n",
    "        else:\n",
    "            print('Последовательность содержит дубликаты')\n",
    "    \n",
    "check_num([1,2,3,5,5])"
   ]
  },
  {
   "cell_type": "code",
   "execution_count": 4,
   "id": "9f724bad",
   "metadata": {},
   "outputs": [
    {
     "name": "stdout",
     "output_type": "stream",
     "text": [
      "Номер 1 --> я\n",
      "Номер 2 --> не\n",
      "Номер 3 --> в\n",
      "Номер 4 --> отпуск\n"
     ]
    }
   ],
   "source": [
    "#Создать функцию, которая просто печатает все элементы заданного ей списка\n",
    "\n",
    "def print_list(my_list):\n",
    "    for i in range(len(my_list)):\n",
    "        print(f'Номер {i+1} --> {my_list[i]}')\n",
    "\n",
    "print_list([\"я\", \"не\", \"в\", \"отпуск\"])"
   ]
  },
  {
   "cell_type": "code",
   "execution_count": 3,
   "id": "cf36ad22",
   "metadata": {},
   "outputs": [
    {
     "name": "stdout",
     "output_type": "stream",
     "text": [
      "Ключ <<key1>> --> 2\n",
      "Ключ <<key3>> --> False\n",
      "Ключ <<Приветствие>> --> Hello\n"
     ]
    }
   ],
   "source": [
    "#Создать функцию, которая печатает каждый элемент словарика\n",
    "\n",
    "def print_dict(my_dict):\n",
    "    for key, value in my_dict.items():\n",
    "        print(f'Ключ <<{key}>> --> {value}')\n",
    "        \n",
    "print_dict({\"key1\": 2, \"key3\": False, \"Приветствие\": \"Hello\"})"
   ]
  },
  {
   "cell_type": "code",
   "execution_count": 21,
   "id": "8cfa8bc5",
   "metadata": {},
   "outputs": [
    {
     "name": "stdout",
     "output_type": "stream",
     "text": [
      "Ключ <<key1>> --> 1\n",
      "Ключ <<key2>> --> [1, 2, 3, 4]:\n",
      "Номер 1 --> 1\n",
      "Номер 2 --> 2\n",
      "Номер 3 --> 3\n",
      "Номер 4 --> 4\n",
      "Ключ <<key3>> --> Hello\n",
      "Ключ <<key4>> --> {'ciao': 'Mondo', 'Привет': 'О дивный мир'}:\n",
      "Ключ <<ciao>> --> Mondo\n",
      "Ключ <<Привет>> --> О дивный мир\n"
     ]
    }
   ],
   "source": [
    "# Сделать функцию, которая использует две уже написанные функции следующим образом:\n",
    "# если ЗНАЧЕНИЕ это LIST --> вызывается print_list\n",
    "# если ЗНАЧЕНИЕ это DICT --> вызывается print_dict\n",
    "# во всех других случаях просто выводится ЗНАЧЕНИЕ\n",
    "\n",
    "def print_overlord(mydict):\n",
    "    for key, value in mydict.items():\n",
    "        if type(value) == list:\n",
    "            print(f'Ключ <<{key}>> --> {value}:')\n",
    "            print_list(value)\n",
    "        elif type(value) == dict:\n",
    "            print(f'Ключ <<{key}>> --> {value}:')\n",
    "            print_dict(value)\n",
    "        else:\n",
    "            print(f'Ключ <<{key}>> --> {value}')\n",
    "\n",
    "print_overlord(dict(key1=1,\n",
    "            key2=[1, 2, 3, 4], \n",
    "            key3='Hello', \n",
    "            key4={\"ciao\":\"Mondo\", \"Привет\": \"О дивный мир\"}))"
   ]
  }
 ],
 "metadata": {
  "kernelspec": {
   "display_name": "Python 3",
   "language": "python",
   "name": "python3"
  },
  "language_info": {
   "codemirror_mode": {
    "name": "ipython",
    "version": 3
   },
   "file_extension": ".py",
   "mimetype": "text/x-python",
   "name": "python",
   "nbconvert_exporter": "python",
   "pygments_lexer": "ipython3",
   "version": "3.8.8"
  }
 },
 "nbformat": 4,
 "nbformat_minor": 5
}
